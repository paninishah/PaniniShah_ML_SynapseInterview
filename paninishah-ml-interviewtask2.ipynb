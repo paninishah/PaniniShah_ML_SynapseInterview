{
 "cells": [
  {
   "cell_type": "markdown",
   "id": "b5cbf31c",
   "metadata": {
    "papermill": {
     "duration": 0.007861,
     "end_time": "2025-09-01T16:49:35.577398",
     "exception": false,
     "start_time": "2025-09-01T16:49:35.569537",
     "status": "completed"
    },
    "tags": []
   },
   "source": [
    "# Instructions \n",
    "\n",
    "- Make sure you’re logged into Kaggle.\n",
    "- Load the **Video Game Sales dataset** (CSV file is provided in the Kaggle input section).  \n",
    "- Carefully read through each step and run the cells in order.  \n",
    "- Do **not** skip steps — each builds on the previous one.  \n",
    "- Add your own observations wherever possible, especially when exploring graphs.  \n",
    "- Remember: This is practice for real-world data preprocessing + EDA, so try to think *why* each step is done, not just *how*.  \n",
    "- At the end, feel free to explore further — add more plots, groupbys, or questions you want to answer!  \n",
    "\n"
   ]
  },
  {
   "cell_type": "markdown",
   "id": "53601df2",
   "metadata": {
    "papermill": {
     "duration": 0.006559,
     "end_time": "2025-09-01T16:49:35.591163",
     "exception": false,
     "start_time": "2025-09-01T16:49:35.584604",
     "status": "completed"
    },
    "tags": []
   },
   "source": [
    "Welcome to your next checkpoint on the Synapse road!\n",
    "Today we’re diving into the Video Game Sales dataset to practice real-world data preprocessing + EDA. Think of this like prepping ingredients before cooking — we’ll clean, slice, and plate the data so insights pop 🍽️"
   ]
  },
  {
   "cell_type": "markdown",
   "id": "85f3fb80",
   "metadata": {
    "papermill": {
     "duration": 0.006411,
     "end_time": "2025-09-01T16:49:35.604755",
     "exception": false,
     "start_time": "2025-09-01T16:49:35.598344",
     "status": "completed"
    },
    "tags": []
   },
   "source": [
    "We’ll be using pandas, numpy, matplotlib, and seaborn for this task.\n",
    "Run the following cell to import them"
   ]
  },
  {
   "cell_type": "code",
   "execution_count": 1,
   "id": "04b029c7",
   "metadata": {
    "execution": {
     "iopub.execute_input": "2025-09-01T16:49:35.619814Z",
     "iopub.status.busy": "2025-09-01T16:49:35.619404Z",
     "iopub.status.idle": "2025-09-01T16:49:39.887791Z",
     "shell.execute_reply": "2025-09-01T16:49:39.886512Z"
    },
    "papermill": {
     "duration": 4.278017,
     "end_time": "2025-09-01T16:49:39.889604",
     "exception": false,
     "start_time": "2025-09-01T16:49:35.611587",
     "status": "completed"
    },
    "tags": []
   },
   "outputs": [],
   "source": [
    "import pandas as pd\n",
    "import numpy as np\n",
    "import matplotlib.pyplot as plt\n",
    "import seaborn as sns"
   ]
  },
  {
   "cell_type": "markdown",
   "id": "a1a152b5",
   "metadata": {
    "papermill": {
     "duration": 0.006804,
     "end_time": "2025-09-01T16:49:39.903848",
     "exception": false,
     "start_time": "2025-09-01T16:49:39.897044",
     "status": "completed"
    },
    "tags": []
   },
   "source": [
    "Alright, now that we’ve got our tools ready, let’s bring in the star of the show — the **Video Game Sales dataset** 🎮  \n",
    "\n",
    "Your task:  \n",
    "- Load the dataset into a pandas DataFrame.  \n",
    "- Take a quick peek at the first few rows using.  \n",
    "- Check the shape of the dataset to see how big this universe is.  \n",
    "\n",
    "Think of this step as unboxing a new console — gotta see what’s inside first!  \n"
   ]
  },
  {
   "cell_type": "code",
   "execution_count": 2,
   "id": "085f8823",
   "metadata": {
    "execution": {
     "iopub.execute_input": "2025-09-01T16:49:39.919166Z",
     "iopub.status.busy": "2025-09-01T16:49:39.918720Z",
     "iopub.status.idle": "2025-09-01T16:49:39.998666Z",
     "shell.execute_reply": "2025-09-01T16:49:39.997509Z"
    },
    "papermill": {
     "duration": 0.089827,
     "end_time": "2025-09-01T16:49:40.000785",
     "exception": false,
     "start_time": "2025-09-01T16:49:39.910958",
     "status": "completed"
    },
    "tags": []
   },
   "outputs": [],
   "source": [
    "df=pd.read_csv('/kaggle/input/videogamesales/vgsales.csv')"
   ]
  },
  {
   "cell_type": "code",
   "execution_count": 3,
   "id": "d691ad77",
   "metadata": {
    "execution": {
     "iopub.execute_input": "2025-09-01T16:49:40.017043Z",
     "iopub.status.busy": "2025-09-01T16:49:40.016738Z",
     "iopub.status.idle": "2025-09-01T16:49:40.050514Z",
     "shell.execute_reply": "2025-09-01T16:49:40.049515Z"
    },
    "papermill": {
     "duration": 0.043768,
     "end_time": "2025-09-01T16:49:40.052330",
     "exception": false,
     "start_time": "2025-09-01T16:49:40.008562",
     "status": "completed"
    },
    "tags": []
   },
   "outputs": [
    {
     "data": {
      "text/html": [
       "<div>\n",
       "<style scoped>\n",
       "    .dataframe tbody tr th:only-of-type {\n",
       "        vertical-align: middle;\n",
       "    }\n",
       "\n",
       "    .dataframe tbody tr th {\n",
       "        vertical-align: top;\n",
       "    }\n",
       "\n",
       "    .dataframe thead th {\n",
       "        text-align: right;\n",
       "    }\n",
       "</style>\n",
       "<table border=\"1\" class=\"dataframe\">\n",
       "  <thead>\n",
       "    <tr style=\"text-align: right;\">\n",
       "      <th></th>\n",
       "      <th>Rank</th>\n",
       "      <th>Name</th>\n",
       "      <th>Platform</th>\n",
       "      <th>Year</th>\n",
       "      <th>Genre</th>\n",
       "      <th>Publisher</th>\n",
       "      <th>NA_Sales</th>\n",
       "      <th>EU_Sales</th>\n",
       "      <th>JP_Sales</th>\n",
       "      <th>Other_Sales</th>\n",
       "      <th>Global_Sales</th>\n",
       "    </tr>\n",
       "  </thead>\n",
       "  <tbody>\n",
       "    <tr>\n",
       "      <th>0</th>\n",
       "      <td>1</td>\n",
       "      <td>Wii Sports</td>\n",
       "      <td>Wii</td>\n",
       "      <td>2006.0</td>\n",
       "      <td>Sports</td>\n",
       "      <td>Nintendo</td>\n",
       "      <td>41.49</td>\n",
       "      <td>29.02</td>\n",
       "      <td>3.77</td>\n",
       "      <td>8.46</td>\n",
       "      <td>82.74</td>\n",
       "    </tr>\n",
       "    <tr>\n",
       "      <th>1</th>\n",
       "      <td>2</td>\n",
       "      <td>Super Mario Bros.</td>\n",
       "      <td>NES</td>\n",
       "      <td>1985.0</td>\n",
       "      <td>Platform</td>\n",
       "      <td>Nintendo</td>\n",
       "      <td>29.08</td>\n",
       "      <td>3.58</td>\n",
       "      <td>6.81</td>\n",
       "      <td>0.77</td>\n",
       "      <td>40.24</td>\n",
       "    </tr>\n",
       "    <tr>\n",
       "      <th>2</th>\n",
       "      <td>3</td>\n",
       "      <td>Mario Kart Wii</td>\n",
       "      <td>Wii</td>\n",
       "      <td>2008.0</td>\n",
       "      <td>Racing</td>\n",
       "      <td>Nintendo</td>\n",
       "      <td>15.85</td>\n",
       "      <td>12.88</td>\n",
       "      <td>3.79</td>\n",
       "      <td>3.31</td>\n",
       "      <td>35.82</td>\n",
       "    </tr>\n",
       "    <tr>\n",
       "      <th>3</th>\n",
       "      <td>4</td>\n",
       "      <td>Wii Sports Resort</td>\n",
       "      <td>Wii</td>\n",
       "      <td>2009.0</td>\n",
       "      <td>Sports</td>\n",
       "      <td>Nintendo</td>\n",
       "      <td>15.75</td>\n",
       "      <td>11.01</td>\n",
       "      <td>3.28</td>\n",
       "      <td>2.96</td>\n",
       "      <td>33.00</td>\n",
       "    </tr>\n",
       "    <tr>\n",
       "      <th>4</th>\n",
       "      <td>5</td>\n",
       "      <td>Pokemon Red/Pokemon Blue</td>\n",
       "      <td>GB</td>\n",
       "      <td>1996.0</td>\n",
       "      <td>Role-Playing</td>\n",
       "      <td>Nintendo</td>\n",
       "      <td>11.27</td>\n",
       "      <td>8.89</td>\n",
       "      <td>10.22</td>\n",
       "      <td>1.00</td>\n",
       "      <td>31.37</td>\n",
       "    </tr>\n",
       "  </tbody>\n",
       "</table>\n",
       "</div>"
      ],
      "text/plain": [
       "   Rank                      Name Platform    Year         Genre Publisher  \\\n",
       "0     1                Wii Sports      Wii  2006.0        Sports  Nintendo   \n",
       "1     2         Super Mario Bros.      NES  1985.0      Platform  Nintendo   \n",
       "2     3            Mario Kart Wii      Wii  2008.0        Racing  Nintendo   \n",
       "3     4         Wii Sports Resort      Wii  2009.0        Sports  Nintendo   \n",
       "4     5  Pokemon Red/Pokemon Blue       GB  1996.0  Role-Playing  Nintendo   \n",
       "\n",
       "   NA_Sales  EU_Sales  JP_Sales  Other_Sales  Global_Sales  \n",
       "0     41.49     29.02      3.77         8.46         82.74  \n",
       "1     29.08      3.58      6.81         0.77         40.24  \n",
       "2     15.85     12.88      3.79         3.31         35.82  \n",
       "3     15.75     11.01      3.28         2.96         33.00  \n",
       "4     11.27      8.89     10.22         1.00         31.37  "
      ]
     },
     "execution_count": 3,
     "metadata": {},
     "output_type": "execute_result"
    }
   ],
   "source": [
    "df.head()"
   ]
  },
  {
   "cell_type": "code",
   "execution_count": 4,
   "id": "3353b1c3",
   "metadata": {
    "execution": {
     "iopub.execute_input": "2025-09-01T16:49:40.069184Z",
     "iopub.status.busy": "2025-09-01T16:49:40.068843Z",
     "iopub.status.idle": "2025-09-01T16:49:40.075644Z",
     "shell.execute_reply": "2025-09-01T16:49:40.074509Z"
    },
    "papermill": {
     "duration": 0.017339,
     "end_time": "2025-09-01T16:49:40.077465",
     "exception": false,
     "start_time": "2025-09-01T16:49:40.060126",
     "status": "completed"
    },
    "tags": []
   },
   "outputs": [
    {
     "data": {
      "text/plain": [
       "(16598, 11)"
      ]
     },
     "execution_count": 4,
     "metadata": {},
     "output_type": "execute_result"
    }
   ],
   "source": [
    "df.shape"
   ]
  },
  {
   "cell_type": "markdown",
   "id": "d1a47173",
   "metadata": {
    "papermill": {
     "duration": 0.007581,
     "end_time": "2025-09-01T16:49:40.092473",
     "exception": false,
     "start_time": "2025-09-01T16:49:40.084892",
     "status": "completed"
    },
    "tags": []
   },
   "source": [
    "### 🕹️ Level 1: Meet the Characters  \n",
    "\n",
    "Now that we’ve unboxed our dataset, let’s get to know the **cast of characters**:  \n",
    "- What kinds of columns do we have? (numeric, object, etc.)  \n",
    "- How many missing values are there?  \n",
    "\n",
    "Your task:  \n",
    "- To get a quick overview of column types + null values.  \n",
    "- To double-check the data types.  \n",
    "\n",
    "This step is like reading the **character bios** before starting a game   \n"
   ]
  },
  {
   "cell_type": "code",
   "execution_count": 5,
   "id": "d3c0f4d9",
   "metadata": {
    "execution": {
     "iopub.execute_input": "2025-09-01T16:49:40.108773Z",
     "iopub.status.busy": "2025-09-01T16:49:40.108322Z",
     "iopub.status.idle": "2025-09-01T16:49:40.116110Z",
     "shell.execute_reply": "2025-09-01T16:49:40.115278Z"
    },
    "papermill": {
     "duration": 0.017489,
     "end_time": "2025-09-01T16:49:40.117558",
     "exception": false,
     "start_time": "2025-09-01T16:49:40.100069",
     "status": "completed"
    },
    "tags": []
   },
   "outputs": [
    {
     "data": {
      "text/plain": [
       "Index(['Rank', 'Name', 'Platform', 'Year', 'Genre', 'Publisher', 'NA_Sales',\n",
       "       'EU_Sales', 'JP_Sales', 'Other_Sales', 'Global_Sales'],\n",
       "      dtype='object')"
      ]
     },
     "execution_count": 5,
     "metadata": {},
     "output_type": "execute_result"
    }
   ],
   "source": [
    "df.columns"
   ]
  },
  {
   "cell_type": "code",
   "execution_count": 6,
   "id": "1bd8fcc6",
   "metadata": {
    "execution": {
     "iopub.execute_input": "2025-09-01T16:49:40.133610Z",
     "iopub.status.busy": "2025-09-01T16:49:40.133249Z",
     "iopub.status.idle": "2025-09-01T16:49:40.140320Z",
     "shell.execute_reply": "2025-09-01T16:49:40.139539Z"
    },
    "papermill": {
     "duration": 0.016925,
     "end_time": "2025-09-01T16:49:40.142020",
     "exception": false,
     "start_time": "2025-09-01T16:49:40.125095",
     "status": "completed"
    },
    "tags": []
   },
   "outputs": [
    {
     "data": {
      "text/plain": [
       "Rank              int64\n",
       "Name             object\n",
       "Platform         object\n",
       "Year            float64\n",
       "Genre            object\n",
       "Publisher        object\n",
       "NA_Sales        float64\n",
       "EU_Sales        float64\n",
       "JP_Sales        float64\n",
       "Other_Sales     float64\n",
       "Global_Sales    float64\n",
       "dtype: object"
      ]
     },
     "execution_count": 6,
     "metadata": {},
     "output_type": "execute_result"
    }
   ],
   "source": [
    "df.dtypes"
   ]
  },
  {
   "cell_type": "markdown",
   "id": "3fea3c1d",
   "metadata": {
    "papermill": {
     "duration": 0.006967,
     "end_time": "2025-09-01T16:49:40.156697",
     "exception": false,
     "start_time": "2025-09-01T16:49:40.149730",
     "status": "completed"
    },
    "tags": []
   },
   "source": [
    "### 🎯 Level 2: Quick Stats Check (Describe the Data)  \n",
    "\n",
    "Every good gamer checks the **stats screen** before playing  \n",
    "Now, let’s do the same for our dataset:  \n",
    "\n",
    "Your task:  \n",
    "- To get summary statistics for numerical columns.  \n",
    "- Notice things like average sales, max values, and distribution hints.  \n",
    "\n",
    "This is like peeking at the **scoreboard** — who’s leading, what’s the high score?   \n"
   ]
  },
  {
   "cell_type": "code",
   "execution_count": 7,
   "id": "22b97ee8",
   "metadata": {
    "execution": {
     "iopub.execute_input": "2025-09-01T16:49:40.172724Z",
     "iopub.status.busy": "2025-09-01T16:49:40.172392Z",
     "iopub.status.idle": "2025-09-01T16:49:40.214739Z",
     "shell.execute_reply": "2025-09-01T16:49:40.213391Z"
    },
    "papermill": {
     "duration": 0.052904,
     "end_time": "2025-09-01T16:49:40.217027",
     "exception": false,
     "start_time": "2025-09-01T16:49:40.164123",
     "status": "completed"
    },
    "tags": []
   },
   "outputs": [
    {
     "data": {
      "text/html": [
       "<div>\n",
       "<style scoped>\n",
       "    .dataframe tbody tr th:only-of-type {\n",
       "        vertical-align: middle;\n",
       "    }\n",
       "\n",
       "    .dataframe tbody tr th {\n",
       "        vertical-align: top;\n",
       "    }\n",
       "\n",
       "    .dataframe thead th {\n",
       "        text-align: right;\n",
       "    }\n",
       "</style>\n",
       "<table border=\"1\" class=\"dataframe\">\n",
       "  <thead>\n",
       "    <tr style=\"text-align: right;\">\n",
       "      <th></th>\n",
       "      <th>Rank</th>\n",
       "      <th>Year</th>\n",
       "      <th>NA_Sales</th>\n",
       "      <th>EU_Sales</th>\n",
       "      <th>JP_Sales</th>\n",
       "      <th>Other_Sales</th>\n",
       "      <th>Global_Sales</th>\n",
       "    </tr>\n",
       "  </thead>\n",
       "  <tbody>\n",
       "    <tr>\n",
       "      <th>count</th>\n",
       "      <td>16598.000000</td>\n",
       "      <td>16327.000000</td>\n",
       "      <td>16598.000000</td>\n",
       "      <td>16598.000000</td>\n",
       "      <td>16598.000000</td>\n",
       "      <td>16598.000000</td>\n",
       "      <td>16598.000000</td>\n",
       "    </tr>\n",
       "    <tr>\n",
       "      <th>mean</th>\n",
       "      <td>8300.605254</td>\n",
       "      <td>2006.406443</td>\n",
       "      <td>0.264667</td>\n",
       "      <td>0.146652</td>\n",
       "      <td>0.077782</td>\n",
       "      <td>0.048063</td>\n",
       "      <td>0.537441</td>\n",
       "    </tr>\n",
       "    <tr>\n",
       "      <th>std</th>\n",
       "      <td>4791.853933</td>\n",
       "      <td>5.828981</td>\n",
       "      <td>0.816683</td>\n",
       "      <td>0.505351</td>\n",
       "      <td>0.309291</td>\n",
       "      <td>0.188588</td>\n",
       "      <td>1.555028</td>\n",
       "    </tr>\n",
       "    <tr>\n",
       "      <th>min</th>\n",
       "      <td>1.000000</td>\n",
       "      <td>1980.000000</td>\n",
       "      <td>0.000000</td>\n",
       "      <td>0.000000</td>\n",
       "      <td>0.000000</td>\n",
       "      <td>0.000000</td>\n",
       "      <td>0.010000</td>\n",
       "    </tr>\n",
       "    <tr>\n",
       "      <th>25%</th>\n",
       "      <td>4151.250000</td>\n",
       "      <td>2003.000000</td>\n",
       "      <td>0.000000</td>\n",
       "      <td>0.000000</td>\n",
       "      <td>0.000000</td>\n",
       "      <td>0.000000</td>\n",
       "      <td>0.060000</td>\n",
       "    </tr>\n",
       "    <tr>\n",
       "      <th>50%</th>\n",
       "      <td>8300.500000</td>\n",
       "      <td>2007.000000</td>\n",
       "      <td>0.080000</td>\n",
       "      <td>0.020000</td>\n",
       "      <td>0.000000</td>\n",
       "      <td>0.010000</td>\n",
       "      <td>0.170000</td>\n",
       "    </tr>\n",
       "    <tr>\n",
       "      <th>75%</th>\n",
       "      <td>12449.750000</td>\n",
       "      <td>2010.000000</td>\n",
       "      <td>0.240000</td>\n",
       "      <td>0.110000</td>\n",
       "      <td>0.040000</td>\n",
       "      <td>0.040000</td>\n",
       "      <td>0.470000</td>\n",
       "    </tr>\n",
       "    <tr>\n",
       "      <th>max</th>\n",
       "      <td>16600.000000</td>\n",
       "      <td>2020.000000</td>\n",
       "      <td>41.490000</td>\n",
       "      <td>29.020000</td>\n",
       "      <td>10.220000</td>\n",
       "      <td>10.570000</td>\n",
       "      <td>82.740000</td>\n",
       "    </tr>\n",
       "  </tbody>\n",
       "</table>\n",
       "</div>"
      ],
      "text/plain": [
       "               Rank          Year      NA_Sales      EU_Sales      JP_Sales  \\\n",
       "count  16598.000000  16327.000000  16598.000000  16598.000000  16598.000000   \n",
       "mean    8300.605254   2006.406443      0.264667      0.146652      0.077782   \n",
       "std     4791.853933      5.828981      0.816683      0.505351      0.309291   \n",
       "min        1.000000   1980.000000      0.000000      0.000000      0.000000   \n",
       "25%     4151.250000   2003.000000      0.000000      0.000000      0.000000   \n",
       "50%     8300.500000   2007.000000      0.080000      0.020000      0.000000   \n",
       "75%    12449.750000   2010.000000      0.240000      0.110000      0.040000   \n",
       "max    16600.000000   2020.000000     41.490000     29.020000     10.220000   \n",
       "\n",
       "        Other_Sales  Global_Sales  \n",
       "count  16598.000000  16598.000000  \n",
       "mean       0.048063      0.537441  \n",
       "std        0.188588      1.555028  \n",
       "min        0.000000      0.010000  \n",
       "25%        0.000000      0.060000  \n",
       "50%        0.010000      0.170000  \n",
       "75%        0.040000      0.470000  \n",
       "max       10.570000     82.740000  "
      ]
     },
     "execution_count": 7,
     "metadata": {},
     "output_type": "execute_result"
    }
   ],
   "source": [
    "df.describe()"
   ]
  },
  {
   "cell_type": "markdown",
   "id": "28c19fc1",
   "metadata": {
    "papermill": {
     "duration": 0.007376,
     "end_time": "2025-09-01T16:49:40.233523",
     "exception": false,
     "start_time": "2025-09-01T16:49:40.226147",
     "status": "completed"
    },
    "tags": []
   },
   "source": [
    "## 🧹 Level 3: Clean the Map (Missing Values)\n",
    "\n",
    "Time to sweep the floor before we play.\n",
    "\n",
    "**Your tasks:**\n",
    "- Check how many missing values are in each column.\n",
    "- For this dataset, handle missing values in **`Year`** and **`Publisher`** by removing those rows.\n",
    "- Re-check to confirm there are **no missing values left**.\n",
    "\n",
    "> Tip: Do a quick sanity check after cleaning (row count should drop a bit).\n"
   ]
  },
  {
   "cell_type": "code",
   "execution_count": 8,
   "id": "7d517ea0",
   "metadata": {
    "execution": {
     "iopub.execute_input": "2025-09-01T16:49:40.250599Z",
     "iopub.status.busy": "2025-09-01T16:49:40.250166Z",
     "iopub.status.idle": "2025-09-01T16:49:40.263377Z",
     "shell.execute_reply": "2025-09-01T16:49:40.262307Z"
    },
    "papermill": {
     "duration": 0.024111,
     "end_time": "2025-09-01T16:49:40.265130",
     "exception": false,
     "start_time": "2025-09-01T16:49:40.241019",
     "status": "completed"
    },
    "tags": []
   },
   "outputs": [
    {
     "data": {
      "text/plain": [
       "Rank              0\n",
       "Name              0\n",
       "Platform          0\n",
       "Year            271\n",
       "Genre             0\n",
       "Publisher        58\n",
       "NA_Sales          0\n",
       "EU_Sales          0\n",
       "JP_Sales          0\n",
       "Other_Sales       0\n",
       "Global_Sales      0\n",
       "dtype: int64"
      ]
     },
     "execution_count": 8,
     "metadata": {},
     "output_type": "execute_result"
    }
   ],
   "source": [
    "df.isna().sum()"
   ]
  },
  {
   "cell_type": "code",
   "execution_count": 9,
   "id": "d61c36af",
   "metadata": {
    "execution": {
     "iopub.execute_input": "2025-09-01T16:49:40.282618Z",
     "iopub.status.busy": "2025-09-01T16:49:40.282258Z",
     "iopub.status.idle": "2025-09-01T16:49:40.295510Z",
     "shell.execute_reply": "2025-09-01T16:49:40.294540Z"
    },
    "papermill": {
     "duration": 0.023731,
     "end_time": "2025-09-01T16:49:40.297343",
     "exception": false,
     "start_time": "2025-09-01T16:49:40.273612",
     "status": "completed"
    },
    "tags": []
   },
   "outputs": [],
   "source": [
    "df=df.dropna(subset=['Year','Publisher'])"
   ]
  },
  {
   "cell_type": "code",
   "execution_count": 10,
   "id": "9c8b5a22",
   "metadata": {
    "execution": {
     "iopub.execute_input": "2025-09-01T16:49:40.314679Z",
     "iopub.status.busy": "2025-09-01T16:49:40.314375Z",
     "iopub.status.idle": "2025-09-01T16:49:40.326851Z",
     "shell.execute_reply": "2025-09-01T16:49:40.326082Z"
    },
    "papermill": {
     "duration": 0.022777,
     "end_time": "2025-09-01T16:49:40.328501",
     "exception": false,
     "start_time": "2025-09-01T16:49:40.305724",
     "status": "completed"
    },
    "tags": []
   },
   "outputs": [
    {
     "data": {
      "text/plain": [
       "Rank            0\n",
       "Name            0\n",
       "Platform        0\n",
       "Year            0\n",
       "Genre           0\n",
       "Publisher       0\n",
       "NA_Sales        0\n",
       "EU_Sales        0\n",
       "JP_Sales        0\n",
       "Other_Sales     0\n",
       "Global_Sales    0\n",
       "dtype: int64"
      ]
     },
     "execution_count": 10,
     "metadata": {},
     "output_type": "execute_result"
    }
   ],
   "source": [
    "df.isna().sum()"
   ]
  },
  {
   "cell_type": "markdown",
   "id": "c77090fa",
   "metadata": {
    "papermill": {
     "duration": 0.007473,
     "end_time": "2025-09-01T16:49:40.343926",
     "exception": false,
     "start_time": "2025-09-01T16:49:40.336453",
     "status": "completed"
    },
    "tags": []
   },
   "source": [
    "## 🔢 Level 4: Patch the `Year` Column (Data Types)\n",
    "\n",
    "`Year` often shows up as a float (e.g., `2008.0`) because of missing values earlier.\n",
    "\n",
    "**Your tasks:**\n",
    "- Convert **`Year`** to **integer**.\n",
    "- Re-run a quick `info` to confirm the dtype change.\n",
    "\n",
    "> If conversion fails, revisit Level 3 — some NaNs may still be lurking.\n"
   ]
  },
  {
   "cell_type": "code",
   "execution_count": 11,
   "id": "4335c86f",
   "metadata": {
    "execution": {
     "iopub.execute_input": "2025-09-01T16:49:40.361394Z",
     "iopub.status.busy": "2025-09-01T16:49:40.361029Z",
     "iopub.status.idle": "2025-09-01T16:49:40.366461Z",
     "shell.execute_reply": "2025-09-01T16:49:40.365671Z"
    },
    "papermill": {
     "duration": 0.016147,
     "end_time": "2025-09-01T16:49:40.368197",
     "exception": false,
     "start_time": "2025-09-01T16:49:40.352050",
     "status": "completed"
    },
    "tags": []
   },
   "outputs": [],
   "source": [
    "df['Year'] = df['Year'].astype(int)"
   ]
  },
  {
   "cell_type": "code",
   "execution_count": 12,
   "id": "2e282db3",
   "metadata": {
    "execution": {
     "iopub.execute_input": "2025-09-01T16:49:40.385280Z",
     "iopub.status.busy": "2025-09-01T16:49:40.384955Z",
     "iopub.status.idle": "2025-09-01T16:49:40.392431Z",
     "shell.execute_reply": "2025-09-01T16:49:40.391382Z"
    },
    "papermill": {
     "duration": 0.017934,
     "end_time": "2025-09-01T16:49:40.394147",
     "exception": false,
     "start_time": "2025-09-01T16:49:40.376213",
     "status": "completed"
    },
    "tags": []
   },
   "outputs": [
    {
     "data": {
      "text/plain": [
       "Rank              int64\n",
       "Name             object\n",
       "Platform         object\n",
       "Year              int64\n",
       "Genre            object\n",
       "Publisher        object\n",
       "NA_Sales        float64\n",
       "EU_Sales        float64\n",
       "JP_Sales        float64\n",
       "Other_Sales     float64\n",
       "Global_Sales    float64\n",
       "dtype: object"
      ]
     },
     "execution_count": 12,
     "metadata": {},
     "output_type": "execute_result"
    }
   ],
   "source": [
    "df.dtypes\n",
    "#how does info work?"
   ]
  },
  {
   "cell_type": "markdown",
   "id": "d016f170",
   "metadata": {
    "papermill": {
     "duration": 0.007684,
     "end_time": "2025-09-01T16:49:40.410010",
     "exception": false,
     "start_time": "2025-09-01T16:49:40.402326",
     "status": "completed"
    },
    "tags": []
   },
   "source": [
    "\n",
    "## 🎮 Level 5: Spotting the Legends  \n",
    "Now that we’ve explored platforms and genres, let’s look at the **all-time best sellers**.  \n",
    "Your task:  \n",
    "\n",
    "List the **Top 5 best-selling video games**.  \n",
    "We’ll display their **Name, Platform, Genre, and Global Sales**.  \n",
    "\n",
    "Think of this as the **Hall of Fame of Video Games** \n",
    "\n",
    "\n"
   ]
  },
  {
   "cell_type": "code",
   "execution_count": 13,
   "id": "78f1c97f",
   "metadata": {
    "execution": {
     "iopub.execute_input": "2025-09-01T16:49:40.428248Z",
     "iopub.status.busy": "2025-09-01T16:49:40.427872Z",
     "iopub.status.idle": "2025-09-01T16:49:40.438109Z",
     "shell.execute_reply": "2025-09-01T16:49:40.436982Z"
    },
    "papermill": {
     "duration": 0.02163,
     "end_time": "2025-09-01T16:49:40.440109",
     "exception": false,
     "start_time": "2025-09-01T16:49:40.418479",
     "status": "completed"
    },
    "tags": []
   },
   "outputs": [],
   "source": [
    "top_five = df.nlargest(5, 'Global_Sales')[['Name', 'Platform', 'Genre', 'Global_Sales']]"
   ]
  },
  {
   "cell_type": "code",
   "execution_count": 14,
   "id": "3b8331c0",
   "metadata": {
    "execution": {
     "iopub.execute_input": "2025-09-01T16:49:40.459153Z",
     "iopub.status.busy": "2025-09-01T16:49:40.458777Z",
     "iopub.status.idle": "2025-09-01T16:49:40.470271Z",
     "shell.execute_reply": "2025-09-01T16:49:40.469200Z"
    },
    "papermill": {
     "duration": 0.022536,
     "end_time": "2025-09-01T16:49:40.471859",
     "exception": false,
     "start_time": "2025-09-01T16:49:40.449323",
     "status": "completed"
    },
    "tags": []
   },
   "outputs": [
    {
     "data": {
      "text/html": [
       "<div>\n",
       "<style scoped>\n",
       "    .dataframe tbody tr th:only-of-type {\n",
       "        vertical-align: middle;\n",
       "    }\n",
       "\n",
       "    .dataframe tbody tr th {\n",
       "        vertical-align: top;\n",
       "    }\n",
       "\n",
       "    .dataframe thead th {\n",
       "        text-align: right;\n",
       "    }\n",
       "</style>\n",
       "<table border=\"1\" class=\"dataframe\">\n",
       "  <thead>\n",
       "    <tr style=\"text-align: right;\">\n",
       "      <th></th>\n",
       "      <th>Name</th>\n",
       "      <th>Platform</th>\n",
       "      <th>Genre</th>\n",
       "      <th>Global_Sales</th>\n",
       "    </tr>\n",
       "  </thead>\n",
       "  <tbody>\n",
       "    <tr>\n",
       "      <th>0</th>\n",
       "      <td>Wii Sports</td>\n",
       "      <td>Wii</td>\n",
       "      <td>Sports</td>\n",
       "      <td>82.74</td>\n",
       "    </tr>\n",
       "    <tr>\n",
       "      <th>1</th>\n",
       "      <td>Super Mario Bros.</td>\n",
       "      <td>NES</td>\n",
       "      <td>Platform</td>\n",
       "      <td>40.24</td>\n",
       "    </tr>\n",
       "    <tr>\n",
       "      <th>2</th>\n",
       "      <td>Mario Kart Wii</td>\n",
       "      <td>Wii</td>\n",
       "      <td>Racing</td>\n",
       "      <td>35.82</td>\n",
       "    </tr>\n",
       "    <tr>\n",
       "      <th>3</th>\n",
       "      <td>Wii Sports Resort</td>\n",
       "      <td>Wii</td>\n",
       "      <td>Sports</td>\n",
       "      <td>33.00</td>\n",
       "    </tr>\n",
       "    <tr>\n",
       "      <th>4</th>\n",
       "      <td>Pokemon Red/Pokemon Blue</td>\n",
       "      <td>GB</td>\n",
       "      <td>Role-Playing</td>\n",
       "      <td>31.37</td>\n",
       "    </tr>\n",
       "  </tbody>\n",
       "</table>\n",
       "</div>"
      ],
      "text/plain": [
       "                       Name Platform         Genre  Global_Sales\n",
       "0                Wii Sports      Wii        Sports         82.74\n",
       "1         Super Mario Bros.      NES      Platform         40.24\n",
       "2            Mario Kart Wii      Wii        Racing         35.82\n",
       "3         Wii Sports Resort      Wii        Sports         33.00\n",
       "4  Pokemon Red/Pokemon Blue       GB  Role-Playing         31.37"
      ]
     },
     "execution_count": 14,
     "metadata": {},
     "output_type": "execute_result"
    }
   ],
   "source": [
    "top_five"
   ]
  },
  {
   "cell_type": "markdown",
   "id": "c904ccce",
   "metadata": {
    "papermill": {
     "duration": 0.007635,
     "end_time": "2025-09-01T16:49:40.487737",
     "exception": false,
     "start_time": "2025-09-01T16:49:40.480102",
     "status": "completed"
    },
    "tags": []
   },
   "source": [
    "\n",
    "## 🎮 Level 6: Which Console Ruled the Game?  \n",
    "Every console/platform has a legacy — but which one released the **most number of games**?  \n",
    "\n",
    "Count the number of games released on each platform.  \n",
    "Create a **bar chart** to visualize it.  \n",
    "Finally, answer: **Which platform has the highest number of releases?** \n",
    "\n",
    "  \n"
   ]
  },
  {
   "cell_type": "code",
   "execution_count": 15,
   "id": "3648905a",
   "metadata": {
    "execution": {
     "iopub.execute_input": "2025-09-01T16:49:40.505167Z",
     "iopub.status.busy": "2025-09-01T16:49:40.504818Z",
     "iopub.status.idle": "2025-09-01T16:49:40.515251Z",
     "shell.execute_reply": "2025-09-01T16:49:40.514252Z"
    },
    "papermill": {
     "duration": 0.021273,
     "end_time": "2025-09-01T16:49:40.517010",
     "exception": false,
     "start_time": "2025-09-01T16:49:40.495737",
     "status": "completed"
    },
    "tags": []
   },
   "outputs": [],
   "source": [
    "platform_count = df['Platform'].value_counts()"
   ]
  },
  {
   "cell_type": "code",
   "execution_count": 16,
   "id": "f89269cc",
   "metadata": {
    "execution": {
     "iopub.execute_input": "2025-09-01T16:49:40.535564Z",
     "iopub.status.busy": "2025-09-01T16:49:40.535174Z",
     "iopub.status.idle": "2025-09-01T16:49:41.138486Z",
     "shell.execute_reply": "2025-09-01T16:49:41.137475Z"
    },
    "papermill": {
     "duration": 0.614434,
     "end_time": "2025-09-01T16:49:41.140193",
     "exception": false,
     "start_time": "2025-09-01T16:49:40.525759",
     "status": "completed"
    },
    "tags": []
   },
   "outputs": [
    {
     "data": {
      "text/plain": [
       "<Axes: title={'center': 'Number of Games Released per Platform'}, xlabel='Platform'>"
      ]
     },
     "execution_count": 16,
     "metadata": {},
     "output_type": "execute_result"
    },
    {
     "data": {
      "image/png": "[encoded data removed]",
      "text/plain": [
       "<Figure size 1500x500 with 1 Axes>"
      ]
     },
     "metadata": {},
     "output_type": "display_data"
    }
   ],
   "source": [
    "platform_count.plot(kind='bar', figsize=(15,5), title='Number of Games Released per Platform')"
   ]
  },
  {
   "cell_type": "markdown",
   "id": "72f014c0",
   "metadata": {
    "papermill": {
     "duration": 0.009791,
     "end_time": "2025-09-01T16:49:41.159894",
     "exception": false,
     "start_time": "2025-09-01T16:49:41.150103",
     "status": "completed"
    },
    "tags": []
   },
   "source": [
    "=> hence the most games were released on DS"
   ]
  },
  {
   "cell_type": "markdown",
   "id": "56d323e0",
   "metadata": {
    "papermill": {
     "duration": 0.008997,
     "end_time": "2025-09-01T16:49:41.178092",
     "exception": false,
     "start_time": "2025-09-01T16:49:41.169095",
     "status": "completed"
    },
    "tags": []
   },
   "source": [
    "\n",
    "## 🏢 Level 7: The Big Bosses (Top Publishers)  \n",
    "Some publishers dominate the industry like final bosses \n",
    "\n",
    "Your task:  \n",
    "- Find the **Top 5 publishers** with the highest **total Global Sales**.  \n",
    "- Show their contribution using a **pie chart** \n",
    "\n",
    "This will help us see who really controlled the gaming world  \n"
   ]
  },
  {
   "cell_type": "code",
   "execution_count": 17,
   "id": "ff9a5986",
   "metadata": {
    "execution": {
     "iopub.execute_input": "2025-09-01T16:49:41.197826Z",
     "iopub.status.busy": "2025-09-01T16:49:41.197492Z",
     "iopub.status.idle": "2025-09-01T16:49:41.213152Z",
     "shell.execute_reply": "2025-09-01T16:49:41.212307Z"
    },
    "papermill": {
     "duration": 0.027717,
     "end_time": "2025-09-01T16:49:41.214813",
     "exception": false,
     "start_time": "2025-09-01T16:49:41.187096",
     "status": "completed"
    },
    "tags": []
   },
   "outputs": [
    {
     "data": {
      "text/html": [
       "<div>\n",
       "<style scoped>\n",
       "    .dataframe tbody tr th:only-of-type {\n",
       "        vertical-align: middle;\n",
       "    }\n",
       "\n",
       "    .dataframe tbody tr th {\n",
       "        vertical-align: top;\n",
       "    }\n",
       "\n",
       "    .dataframe thead th {\n",
       "        text-align: right;\n",
       "    }\n",
       "</style>\n",
       "<table border=\"1\" class=\"dataframe\">\n",
       "  <thead>\n",
       "    <tr style=\"text-align: right;\">\n",
       "      <th></th>\n",
       "      <th>Rank</th>\n",
       "      <th>Name</th>\n",
       "      <th>Platform</th>\n",
       "      <th>Year</th>\n",
       "      <th>Genre</th>\n",
       "      <th>Publisher</th>\n",
       "      <th>NA_Sales</th>\n",
       "      <th>EU_Sales</th>\n",
       "      <th>JP_Sales</th>\n",
       "      <th>Other_Sales</th>\n",
       "      <th>Global_Sales</th>\n",
       "    </tr>\n",
       "  </thead>\n",
       "  <tbody>\n",
       "    <tr>\n",
       "      <th>0</th>\n",
       "      <td>1</td>\n",
       "      <td>Wii Sports</td>\n",
       "      <td>Wii</td>\n",
       "      <td>2006</td>\n",
       "      <td>Sports</td>\n",
       "      <td>Nintendo</td>\n",
       "      <td>41.49</td>\n",
       "      <td>29.02</td>\n",
       "      <td>3.77</td>\n",
       "      <td>8.46</td>\n",
       "      <td>82.74</td>\n",
       "    </tr>\n",
       "    <tr>\n",
       "      <th>1</th>\n",
       "      <td>2</td>\n",
       "      <td>Super Mario Bros.</td>\n",
       "      <td>NES</td>\n",
       "      <td>1985</td>\n",
       "      <td>Platform</td>\n",
       "      <td>Nintendo</td>\n",
       "      <td>29.08</td>\n",
       "      <td>3.58</td>\n",
       "      <td>6.81</td>\n",
       "      <td>0.77</td>\n",
       "      <td>40.24</td>\n",
       "    </tr>\n",
       "    <tr>\n",
       "      <th>2</th>\n",
       "      <td>3</td>\n",
       "      <td>Mario Kart Wii</td>\n",
       "      <td>Wii</td>\n",
       "      <td>2008</td>\n",
       "      <td>Racing</td>\n",
       "      <td>Nintendo</td>\n",
       "      <td>15.85</td>\n",
       "      <td>12.88</td>\n",
       "      <td>3.79</td>\n",
       "      <td>3.31</td>\n",
       "      <td>35.82</td>\n",
       "    </tr>\n",
       "    <tr>\n",
       "      <th>3</th>\n",
       "      <td>4</td>\n",
       "      <td>Wii Sports Resort</td>\n",
       "      <td>Wii</td>\n",
       "      <td>2009</td>\n",
       "      <td>Sports</td>\n",
       "      <td>Nintendo</td>\n",
       "      <td>15.75</td>\n",
       "      <td>11.01</td>\n",
       "      <td>3.28</td>\n",
       "      <td>2.96</td>\n",
       "      <td>33.00</td>\n",
       "    </tr>\n",
       "    <tr>\n",
       "      <th>4</th>\n",
       "      <td>5</td>\n",
       "      <td>Pokemon Red/Pokemon Blue</td>\n",
       "      <td>GB</td>\n",
       "      <td>1996</td>\n",
       "      <td>Role-Playing</td>\n",
       "      <td>Nintendo</td>\n",
       "      <td>11.27</td>\n",
       "      <td>8.89</td>\n",
       "      <td>10.22</td>\n",
       "      <td>1.00</td>\n",
       "      <td>31.37</td>\n",
       "    </tr>\n",
       "  </tbody>\n",
       "</table>\n",
       "</div>"
      ],
      "text/plain": [
       "   Rank                      Name Platform  Year         Genre Publisher  \\\n",
       "0     1                Wii Sports      Wii  2006        Sports  Nintendo   \n",
       "1     2         Super Mario Bros.      NES  1985      Platform  Nintendo   \n",
       "2     3            Mario Kart Wii      Wii  2008        Racing  Nintendo   \n",
       "3     4         Wii Sports Resort      Wii  2009        Sports  Nintendo   \n",
       "4     5  Pokemon Red/Pokemon Blue       GB  1996  Role-Playing  Nintendo   \n",
       "\n",
       "   NA_Sales  EU_Sales  JP_Sales  Other_Sales  Global_Sales  \n",
       "0     41.49     29.02      3.77         8.46         82.74  \n",
       "1     29.08      3.58      6.81         0.77         40.24  \n",
       "2     15.85     12.88      3.79         3.31         35.82  \n",
       "3     15.75     11.01      3.28         2.96         33.00  \n",
       "4     11.27      8.89     10.22         1.00         31.37  "
      ]
     },
     "execution_count": 17,
     "metadata": {},
     "output_type": "execute_result"
    }
   ],
   "source": [
    "df.head()"
   ]
  },
  {
   "cell_type": "code",
   "execution_count": 18,
   "id": "6601f8c3",
   "metadata": {
    "execution": {
     "iopub.execute_input": "2025-09-01T16:49:41.235763Z",
     "iopub.status.busy": "2025-09-01T16:49:41.235402Z",
     "iopub.status.idle": "2025-09-01T16:49:41.252044Z",
     "shell.execute_reply": "2025-09-01T16:49:41.250832Z"
    },
    "papermill": {
     "duration": 0.029491,
     "end_time": "2025-09-01T16:49:41.254182",
     "exception": false,
     "start_time": "2025-09-01T16:49:41.224691",
     "status": "completed"
    },
    "tags": []
   },
   "outputs": [
    {
     "name": "stdout",
     "output_type": "stream",
     "text": [
      "Publisher\n",
      "Nintendo                       1784.43\n",
      "Electronic Arts                1093.39\n",
      "Activision                      721.41\n",
      "Sony Computer Entertainment     607.28\n",
      "Ubisoft                         473.54\n",
      "Name: Global_Sales, dtype: float64\n"
     ]
    }
   ],
   "source": [
    "top_five_pubs = df.groupby('Publisher')['Global_Sales'].sum().nlargest(5)\n",
    "print(top_five_pubs)"
   ]
  },
  {
   "cell_type": "code",
   "execution_count": 19,
   "id": "5e663552",
   "metadata": {
    "execution": {
     "iopub.execute_input": "2025-09-01T16:49:41.275915Z",
     "iopub.status.busy": "2025-09-01T16:49:41.275566Z",
     "iopub.status.idle": "2025-09-01T16:49:41.404773Z",
     "shell.execute_reply": "2025-09-01T16:49:41.403634Z"
    },
    "papermill": {
     "duration": 0.14149,
     "end_time": "2025-09-01T16:49:41.406316",
     "exception": false,
     "start_time": "2025-09-01T16:49:41.264826",
     "status": "completed"
    },
    "tags": []
   },
   "outputs": [
    {
     "data": {
      "image/png": "[encoded data removed]",
      "text/plain": [
       "<Figure size 640x480 with 1 Axes>"
      ]
     },
     "metadata": {},
     "output_type": "display_data"
    }
   ],
   "source": [
    "ax=top_five_pubs.plot(kind='pie',\n",
    "                     title='Top 5 Publishers')\n",
    "ax.set_ylabel('')\n",
    "plt.show()"
   ]
  },
  {
   "cell_type": "markdown",
   "id": "7ff3d47c",
   "metadata": {
    "papermill": {
     "duration": 0.010055,
     "end_time": "2025-09-01T16:49:41.484194",
     "exception": false,
     "start_time": "2025-09-01T16:49:41.474139",
     "status": "completed"
    },
    "tags": []
   },
   "source": [
    "=> hence, nintendo controlled the gaming world"
   ]
  },
  {
   "cell_type": "markdown",
   "id": "816dd662",
   "metadata": {
    "papermill": {
     "duration": 0.009881,
     "end_time": "2025-09-01T16:49:41.504885",
     "exception": false,
     "start_time": "2025-09-01T16:49:41.495004",
     "status": "completed"
    },
    "tags": []
   },
   "source": [
    "\n",
    "## 🌍 Level 8: Genre Champions in Europe  \n",
    "Different genres have their own kings in different regions.  \n",
    "Let’s focus on **Europe (EU Sales)** for now.  \n",
    "\n",
    "Your task:  \n",
    "- For **each Genre**, find the **Publisher** that has the highest **total EU Sales**.  \n",
    "- Print the results as a list (Genre → Top Publisher).  \n",
    "\n",
    "Think of this as awarding the **regional championship belts**  \n",
    "\n"
   ]
  },
  {
   "cell_type": "code",
   "execution_count": 20,
   "id": "0ad475d5",
   "metadata": {
    "execution": {
     "iopub.execute_input": "2025-09-01T16:49:41.527002Z",
     "iopub.status.busy": "2025-09-01T16:49:41.526623Z",
     "iopub.status.idle": "2025-09-01T16:49:41.544857Z",
     "shell.execute_reply": "2025-09-01T16:49:41.543601Z"
    },
    "papermill": {
     "duration": 0.031618,
     "end_time": "2025-09-01T16:49:41.546653",
     "exception": false,
     "start_time": "2025-09-01T16:49:41.515035",
     "status": "completed"
    },
    "tags": []
   },
   "outputs": [
    {
     "name": "stdout",
     "output_type": "stream",
     "text": [
      "Action → Take-Two Interactive\n",
      "Adventure → Ubisoft\n",
      "Fighting → THQ\n",
      "Misc → Nintendo\n",
      "Platform → Nintendo\n",
      "Puzzle → Nintendo\n",
      "Racing → Electronic Arts\n",
      "Role-Playing → Nintendo\n",
      "Shooter → Activision\n",
      "Simulation → Electronic Arts\n",
      "Sports → Electronic Arts\n",
      "Strategy → Activision\n"
     ]
    }
   ],
   "source": [
    "genre_publisher_sales = df.groupby(['Genre', 'Publisher'])['EU_Sales'].sum().reset_index()\n",
    "result = genre_publisher_sales.loc[genre_publisher_sales.groupby('Genre')['EU_Sales'].idxmax()]\n",
    "for _, row in result.iterrows():\n",
    "    print(f\"{row['Genre']} → {row['Publisher']}\")"
   ]
  },
  {
   "cell_type": "markdown",
   "id": "dd589c18",
   "metadata": {
    "papermill": {
     "duration": 0.010069,
     "end_time": "2025-09-01T16:49:41.567040",
     "exception": false,
     "start_time": "2025-09-01T16:49:41.556971",
     "status": "completed"
    },
    "tags": []
   },
   "source": [
    "\n",
    "## 🎯 Level 9: Nintendo’s Golden Year  \n",
    "Nintendo is one of the biggest names in gaming 🎮  \n",
    "But… which year did Nintendo achieve its **highest total Global Sales**?  \n",
    "\n",
    "Your task:  \n",
    "- Filter the dataset for **Publisher = Nintendo**.  \n",
    "- Group sales by year.  \n",
    "- Find the year with the **highest global sales**.  \n",
    "\n",
    "This is like uncovering the **peak of Nintendo’s power**   \n",
    "\n"
   ]
  },
  {
   "cell_type": "code",
   "execution_count": 21,
   "id": "4a47f46f",
   "metadata": {
    "execution": {
     "iopub.execute_input": "2025-09-01T16:49:41.589683Z",
     "iopub.status.busy": "2025-09-01T16:49:41.589378Z",
     "iopub.status.idle": "2025-09-01T16:49:41.596939Z",
     "shell.execute_reply": "2025-09-01T16:49:41.596083Z"
    },
    "papermill": {
     "duration": 0.020806,
     "end_time": "2025-09-01T16:49:41.598497",
     "exception": false,
     "start_time": "2025-09-01T16:49:41.577691",
     "status": "completed"
    },
    "tags": []
   },
   "outputs": [],
   "source": [
    "nintendo = df[df['Publisher']=='Nintendo']"
   ]
  },
  {
   "cell_type": "code",
   "execution_count": 22,
   "id": "5bb9fc9a",
   "metadata": {
    "execution": {
     "iopub.execute_input": "2025-09-01T16:49:41.620862Z",
     "iopub.status.busy": "2025-09-01T16:49:41.620533Z",
     "iopub.status.idle": "2025-09-01T16:49:41.629083Z",
     "shell.execute_reply": "2025-09-01T16:49:41.627979Z"
    },
    "papermill": {
     "duration": 0.021634,
     "end_time": "2025-09-01T16:49:41.630710",
     "exception": false,
     "start_time": "2025-09-01T16:49:41.609076",
     "status": "completed"
    },
    "tags": []
   },
   "outputs": [
    {
     "name": "stdout",
     "output_type": "stream",
     "text": [
      "Year\n",
      "1983     10.96\n",
      "1984     45.56\n",
      "1985     49.95\n",
      "1986     16.18\n",
      "1987     11.95\n",
      "1988     36.44\n",
      "1989     63.88\n",
      "1990     35.49\n",
      "1991     15.97\n",
      "1992     38.11\n",
      "1993     20.04\n",
      "1994     24.99\n",
      "1995     16.72\n",
      "1996     73.70\n",
      "1997     25.80\n",
      "1998     48.41\n",
      "1999     65.33\n",
      "2000     34.05\n",
      "2001     45.37\n",
      "2002     48.31\n",
      "2003     38.14\n",
      "2004     60.65\n",
      "2005    127.47\n",
      "2006    205.61\n",
      "2007    104.18\n",
      "2008     91.22\n",
      "2009    128.89\n",
      "2010     61.07\n",
      "2011     51.53\n",
      "2012     56.47\n",
      "2013     52.79\n",
      "2014     48.65\n",
      "2015     27.08\n",
      "2016      3.47\n",
      "Name: Global_Sales, dtype: float64\n"
     ]
    }
   ],
   "source": [
    "yearly_sales = nintendo.groupby('Year')['Global_Sales'].sum()\n",
    "print(yearly_sales)"
   ]
  },
  {
   "cell_type": "code",
   "execution_count": 23,
   "id": "7012ed96",
   "metadata": {
    "execution": {
     "iopub.execute_input": "2025-09-01T16:49:41.653651Z",
     "iopub.status.busy": "2025-09-01T16:49:41.652723Z",
     "iopub.status.idle": "2025-09-01T16:49:41.658726Z",
     "shell.execute_reply": "2025-09-01T16:49:41.657794Z"
    },
    "papermill": {
     "duration": 0.019346,
     "end_time": "2025-09-01T16:49:41.660489",
     "exception": false,
     "start_time": "2025-09-01T16:49:41.641143",
     "status": "completed"
    },
    "tags": []
   },
   "outputs": [
    {
     "name": "stdout",
     "output_type": "stream",
     "text": [
      "year with highest global sales is 2006 where there were 205.61 sales\n"
     ]
    }
   ],
   "source": [
    "peakyear = yearly_sales.idxmax()\n",
    "peaksales = yearly_sales.max()\n",
    "\n",
    "print(f\"year with highest global sales is {peakyear} where there were {peaksales:.2f} sales\")"
   ]
  },
  {
   "cell_type": "markdown",
   "id": "20d9b3f5",
   "metadata": {
    "papermill": {
     "duration": 0.010189,
     "end_time": "2025-09-01T16:49:41.681191",
     "exception": false,
     "start_time": "2025-09-01T16:49:41.671002",
     "status": "completed"
    },
    "tags": []
   },
   "source": [
    "\n",
    "## 🏟️ Final Boss Arena: The Data Playground  \n",
    "\n",
    "You’ve fought through all the levels ⚔️, now it’s time to explore on your own 🎉  \n",
    "\n",
    "Your final mission:  \n",
    "- Choose **any 2–3 plots** (your choice!) that show **interesting patterns** in the data.   \n",
    "\n",
    "💡 This is your **creative zone** → Think of it as building your own “story” from the dataset.  \n",
    "\n",
    "When you’re done, share your best plot with the team — let’s see who finds the coolest insight!  \n",
    "\n"
   ]
  },
  {
   "cell_type": "markdown",
   "id": "074b7268",
   "metadata": {
    "papermill": {
     "duration": 0.01035,
     "end_time": "2025-09-01T16:49:41.702366",
     "exception": false,
     "start_time": "2025-09-01T16:49:41.692016",
     "status": "completed"
    },
    "tags": []
   },
   "source": [
    "=> i chose to represent the yearly sales by region"
   ]
  },
  {
   "cell_type": "code",
   "execution_count": 24,
   "id": "5c057184",
   "metadata": {
    "execution": {
     "iopub.execute_input": "2025-09-01T16:49:41.725038Z",
     "iopub.status.busy": "2025-09-01T16:49:41.724745Z",
     "iopub.status.idle": "2025-09-01T16:49:41.734650Z",
     "shell.execute_reply": "2025-09-01T16:49:41.733544Z"
    },
    "papermill": {
     "duration": 0.023191,
     "end_time": "2025-09-01T16:49:41.736458",
     "exception": false,
     "start_time": "2025-09-01T16:49:41.713267",
     "status": "completed"
    },
    "tags": []
   },
   "outputs": [],
   "source": [
    "regional_yearly_sales=df.groupby('Year')[['NA_Sales', 'EU_Sales', 'JP_Sales','Other_Sales']].sum()\n"
   ]
  },
  {
   "cell_type": "code",
   "execution_count": 25,
   "id": "152d388c",
   "metadata": {
    "execution": {
     "iopub.execute_input": "2025-09-01T16:49:41.759542Z",
     "iopub.status.busy": "2025-09-01T16:49:41.759174Z",
     "iopub.status.idle": "2025-09-01T16:49:42.074713Z",
     "shell.execute_reply": "2025-09-01T16:49:42.073741Z"
    },
    "papermill": {
     "duration": 0.329455,
     "end_time": "2025-09-01T16:49:42.076526",
     "exception": false,
     "start_time": "2025-09-01T16:49:41.747071",
     "status": "completed"
    },
    "tags": []
   },
   "outputs": [
    {
     "data": {
      "image/png": "[encoded data removed]",
      "text/plain": [
       "<Figure size 1500x500 with 1 Axes>"
      ]
     },
     "metadata": {},
     "output_type": "display_data"
    }
   ],
   "source": [
    "ax = regional_yearly_sales.plot(kind='line',\n",
    "                               figsize=(15, 5),\n",
    "                               title='Global Gaming Market: Regional Sales Over Time')\n",
    "ax.set_xlabel('Year')\n",
    "ax.set_ylabel('Sales (Million Units)')\n",
    "ax.legend(title='Region', labels=['North America', 'Europe', 'Japan', 'Other Regions'])\n",
    "ax.grid(True)\n",
    "plt.show()"
   ]
  }
 ],
 "metadata": {
  "kaggle": {
   "accelerator": "none",
   "dataSources": [
    {
     "datasetId": 284,
     "sourceId": 618,
     "sourceType": "datasetVersion"
    }
   ],
   "dockerImageVersionId": 31089,
   "isGpuEnabled": false,
   "isInternetEnabled": true,
   "language": "python",
   "sourceType": "notebook"
  },
  "kernelspec": {
   "display_name": "Python 3",
   "language": "python",
   "name": "python3"
  },
  "language_info": {
   "codemirror_mode": {
    "name": "ipython",
    "version": 3
   },
   "file_extension": ".py",
   "mimetype": "text/x-python",
   "name": "python",
   "nbconvert_exporter": "python",
   "pygments_lexer": "ipython3",
   "version": "3.11.13"
  },
  "papermill": {
   "default_parameters": {},
   "duration": 13.192297,
   "end_time": "2025-09-01T16:49:42.712421",
   "environment_variables": {},
   "exception": null,
   "input_path": "__notebook__.ipynb",
   "output_path": "__notebook__.ipynb",
   "parameters": {},
   "start_time": "2025-09-01T16:49:29.520124",
   "version": "2.6.0"
  }
 },
 "nbformat": 4,
 "nbformat_minor": 5
}
